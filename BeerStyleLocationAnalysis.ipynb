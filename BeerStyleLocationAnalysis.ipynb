{
  "nbformat": 4,
  "nbformat_minor": 0,
  "metadata": {
    "colab": {
      "provenance": [],
      "gpuType": "A100"
    },
    "kernelspec": {
      "name": "python3",
      "display_name": "Python 3"
    },
    "language_info": {
      "name": "python"
    },
    "accelerator": "GPU"
  },
  "cells": [
    {
      "cell_type": "markdown",
      "source": [
        "# Abstract\n",
        "\n",
        "During this project we looked at the correlation between beer styles, ratings and geographical locations.  There are clearly some beer styles that are geographically influenced (such as a Munich Lager or Belgian Tripple or even a Kentucky Common), but are there certian types of beers that are better in particular geographies than others.  In order to look at this question, we will use the [Beer Advocate data set](https://colab.research.google.com/corgiredirector?site=https%3A%2F%2Fdata.world%2Fsocialmediadata%2Fbeeradvocate).  Finally at the end of this project we will build a model that will help us to predict the best beer styles in a given location - to help answer the question \"what kind of beer should I get when I travel to a particular place\".\n",
        "\n",
        "# Overview and Motivation\n",
        "\n",
        "When it comes to beer coming from Europe, it is clear that there is a correlation between style and geography. This correlation is so significant that most styles are named after the location they come from. Examples of this are \"Munich Lager\" or \"Belgian Tripple\".\n",
        "\n",
        "What isn't clear without doing some research is if this correlation applies to beers in the USA, and if the \"best\" versions of those geographically correlated beers come from those locations.\n",
        "\n",
        "I would like to explore the question - are there specific geographies that lend themselves to certain types of beers. I believe that this will definitely hold true through Europe - where beer styles are very historically oriented to the location they come from, but don't know how well this will hold for American Breweries, with a few stylistic exceptions.\n",
        "\n",
        "# Related Work\n",
        "\n",
        "There have been several other works that have looked at components of beer ratings.  Two papers that I looked at to try and understnad work that had been done before are:\n",
        "\n",
        "\n",
        "*   [Rating Predicion for Beer](https://jmcauley.ucsd.edu/cse255/projects/fa15/042.pdf) - a paper written by Xun Jiao and Zhou Fang for a UCSD Computer Science class in 2015 - which looks at some of the key apsects of the RateBeer data set - a similar dataset to the one we used, to see what controtibuted to beer ratings.  This also looked at the rating authors' impact to a given rating.  This project looked at the textual ratings as well as several other factors (like ABV) that are directly in the data set.\n",
        "*   [From Amateurs to Connoisseurs: Modeling the Evolution of User Expertise through Oneline Reviews](https://paperswithcode.com/paper/from-amateurs-to-connoisseurs-modeling-the) - this is a paper written by Julian McAuley, Jure Leskovec at Stanford in March of 2013, looking at how reviewers' trends changed over time - also using the RateBeer data set.  They concluded that they could determine speicfic changes in users' tastes over time by analyizing their ratings over time.\n",
        "\n"
      ],
      "metadata": {
        "id": "rLIxVWc5MjZ4"
      }
    },
    {
      "cell_type": "markdown",
      "source": [
        "## Dataset\n",
        "\n",
        "In order to get to the bottom of this question, we need to have access to a wide range of beer reviews and the information about where those beers were brewed.  There were no readily available datasets with all this information, so a significant amount of work was put in to create this dataset.\n",
        "\n",
        "I have chosen the BeerAdvocate reiew dataset which contains aproxamately 1.5 million individual beer reviews, collected from 2000 through 2011.  This dataset is available in several forms, the one used is a processed CSV file available here:\n",
        "\n",
        "https://data.world/socialmediadata/beeradvocate\n",
        "\n",
        "This dataset has the following fields:\n",
        "\n",
        "* brewery_id - a unique identifier representing the brewery making the beer\n",
        "* brewery_name - the name of the brewery making the beer\n",
        "* review_time - the date/time of the review\n",
        "* review_overall - the overall (numeric) score\n",
        "* review_aroma - the score the reviewer gave the aroma of the beer\n",
        "* review_appearance - the score the reviewer gave the appearance of the beer\n",
        "* review_profilename - the username of the user doing the review\n",
        "* beer_style - the style of beer (text)\n",
        "* review_palate - the score the reviewer gave the palate of the beer\n",
        "* review_taste - the score the reviewer gave the taste of the beer\n",
        "* beer_name - the name of the beer\n",
        "* beer_abv - the ABV of the beer\n",
        "* beer_beerid - a unique ID for the beer\n",
        "\n",
        "## Data Joining and Cleaning\n",
        "\n",
        "I will have to augment this dataset, as the dataset only contains the ID of the brewer.  That makes converting this to a location more complicated.  I have extracted the IDs of the brewers of these beers, and there are 7547 unique brewers in the dataset.\n",
        "\n",
        "For most of these brewers, information is available on the BeerAdvocate website with the location of the brewer, by using the URL:\n",
        "\n",
        "> https://www.beeradvocate.com/beer/profile/${BREWER}/\n",
        "\n",
        "I have extracted this information from the website and created another dataset with the City, State and Country information for each of these brewers, using the following script to find the place list code and parsing out the fields that we need into a CSV file:\n",
        "\n",
        "~~~\n",
        "#!/bin/zsh\n",
        "if [ \"$1\" = \"\" ] ; then\n",
        "  echo \"usage: $0 file.html\"\n",
        "  exit 1\n",
        "fi\n",
        "\n",
        "dofile()\n",
        "{\n",
        "  file=$1\n",
        "  rootname=${file%%.html}\n",
        "  placefile=${rootname}.place\n",
        "\n",
        "  #echo ${placefile}\n",
        "  echo -n \"${rootname},\"\n",
        "  grep /place/list ${file} | sed 's,.*/place/list/?,,;s,\".*$,,;s;&;,;g;s;=;,;g;s,+, ,g' | perl -pne 's/%([A-Fa-f\\d]{2})/chr hex $1/eg;' | tr -d '\\n'\n",
        "  echo \"\"\n",
        "}\n",
        "\n",
        "echo \"brewery_id,,city,,country,,state,,\"\n",
        "\n",
        "while [ \"$1\" != \"\" ] ; do\n",
        "  dofile $1\n",
        "  shift\n",
        "done\n",
        "\n",
        "~~~\n",
        "\n",
        "Unfortunately data was not availble for all brewers (likely because the data is a bit older, some of it isn't available any more).\n",
        "\n",
        "Out of 7548 breweries, the location information was unavaialble from the BeerAdvocate web site for 1338 of those.\n",
        "\n",
        "I did some manual cleanup to make sure the formats were correct via google sheets, and now have a CSV with the following columns:\n",
        "\n",
        "* brewery_id - the ID from the previous file\n",
        "* city - the city the brewery is in\n",
        "* country - the country of the brewery\n",
        "* state - the state of the brewery\n",
        "* location - a string that is the location (city, country, state together)\n",
        "\n"
      ],
      "metadata": {
        "id": "3uCqykc9Qk0I"
      }
    },
    {
      "cell_type": "code",
      "source": [
        "import pandas as pd\n",
        "\n",
        "GOOGLE_API_KEY = '' # TODO: place your Google API key here\n",
        "location_path='/content/drive/MyDrive/WPI/CS539/Data/final-project/breweries-cleaned.csv'\n",
        "\n",
        "# Load the brewery location data and interpret blanks as strings, not NaN\n",
        "brewery_location_data = pd.read_csv(location_path,keep_default_na=False)\n",
        "\n",
        "print(brewery_location_data)\n"
      ],
      "metadata": {
        "colab": {
          "base_uri": "https://localhost:8080/"
        },
        "id": "YU6PTr1dQvlY",
        "outputId": "1222602c-bef8-4817-86d7-e1ec96fe1a02"
      },
      "execution_count": null,
      "outputs": [
        {
          "output_type": "stream",
          "name": "stdout",
          "text": [
            "      Unnamed: 0.1  Unnamed: 0  brewery_id          city country          lat  \\\n",
            "0                0           0           1         Plzeň      CZ   49.7384314   \n",
            "1                1           1           2   San Antonio    s_id   29.4251905   \n",
            "2                2           2           3     Covington    s_id   30.4754702   \n",
            "3                3           3           4      Portland            45.515232   \n",
            "4                4           4           5        Yakima      US   46.6020711   \n",
            "...            ...         ...         ...           ...     ...          ...   \n",
            "7542          7542        7542       13923  Peterborough    s_id   44.3047061   \n",
            "7543          7543        7543       13927     Anchorage    s_id   61.2175758   \n",
            "7544          7544        7544       13933                                      \n",
            "7545          7545        7545       13940      Canberra    s_id  -35.2801846   \n",
            "7546          7546        7546       13946        Selden    s_id   40.8664873   \n",
            "\n",
            "               lng                location state  \n",
            "0       13.3736371               Plzeň, CZ        \n",
            "1      -98.4945922   San Antonio, TX, s_id    TX  \n",
            "2      -90.1009108     Covington, LA, s_id    LA  \n",
            "3     -122.6783853                Portland        \n",
            "4     -120.5058987          Yakima, WA, US    WA  \n",
            "...            ...                     ...   ...  \n",
            "7542   -78.3199606  Peterborough, ON, s_id    ON  \n",
            "7543  -149.8996785     Anchorage, AK, s_id    AK  \n",
            "7544                                              \n",
            "7545   149.1310324          Canberra, s_id        \n",
            "7546   -73.0356625        Selden, NY, s_id    NY  \n",
            "\n",
            "[7547 rows x 9 columns]\n"
          ]
        }
      ]
    },
    {
      "cell_type": "markdown",
      "source": [
        "Next we need to augment the textual representations of the locations with latitude/longitude data - since we'd like to use location as input to clustering altorithms.\n",
        "\n",
        "That requires using a geocoding API. The following script augments the dataframe with lat/lng columns loaded from google's geocode API.\n",
        "\n",
        "The script edits the file in place and only runs on rows that don't already have lat/lng set (and have a location column that isn't blank).\n",
        "\n",
        "This let me run the script, clean up any columns that might have errors (for example the API had trouble with BE as the country for Belgium - so I updated those rows with the full country name, and they started working on the next pass)."
      ],
      "metadata": {
        "id": "J_sD8xZkQyqj"
      }
    },
    {
      "cell_type": "code",
      "source": [
        "import datetime\n",
        "import requests\n",
        "import urllib.parse\n",
        "\n",
        "querycount=0\n",
        "querylimit=1000 # this can be expanded, but I know that I just have errors, so don't want to run up my bill when I run the notebook\n",
        "\n",
        "brewery_location_data = pd.read_csv(location_path,keep_default_na=False)\n",
        "\n",
        "def extract_lat_long_via_address(address_or_zipcode):\n",
        "    lat, lng = None, None\n",
        "    api_key = GOOGLE_API_KEY\n",
        "    #print(\"Address for: \" + str(address_or_zipcode))\n",
        "    base_url = \"https://maps.googleapis.com/maps/api/geocode/json\"\n",
        "    endpoint = base_url + \"?address=\" + urllib.parse.quote_plus(address_or_zipcode) + \"&key=\" + urllib.parse.quote_plus(api_key)\n",
        "    # see how our endpoint includes our API key? Yes this is yet another reason to restrict the key\n",
        "    #print(\"Get: \" + endpoint)\n",
        "    r = requests.get(endpoint)\n",
        "    if r.status_code not in range(200, 299):\n",
        "        #print(r.status_code)\n",
        "        return None, None\n",
        "    try:\n",
        "        '''\n",
        "        This try block incase any of our inputs are invalid. This is done instead\n",
        "        of actually writing out handlers for all kinds of responses.\n",
        "        '''\n",
        "        results = r.json()['results'][0]\n",
        "        lat = results['geometry']['location']['lat']\n",
        "        lng = results['geometry']['location']['lng']\n",
        "        #print(\"Location for: \" + address_or_zipcode + \": \" + str(lat) + \", \" + str(lng))\n",
        "    except Exception as inst:\n",
        "        print(\"Error getting location for: \" + str(address_or_zipcode) + \": \" + str(inst))\n",
        "        pass\n",
        "    return lat, lng\n",
        "\n",
        "def enrich_with_geocoding_api(row):\n",
        "    global querycount\n",
        "    if querycount > querylimit:\n",
        "      return row\n",
        "    column_name = 'location'\n",
        "    if (column_name not in row):\n",
        "      return row\n",
        "\n",
        "    address_value = row[column_name]\n",
        "    # only enrich if we have a location and we don't have lat/lng already\n",
        "    #print(address_value)\n",
        "\n",
        "    if ( ( address_value != None and address_value != \"\" ) and\n",
        "         ( ( 'lat' not in row and 'lng' not in row ) or\n",
        "           ( row['lat'] == \"\" and row['lng'] == \"\" ) ) ):\n",
        "      querycount=querycount+1\n",
        "      address_lat, address_lng = extract_lat_long_via_address(address_value)\n",
        "      row['lat'] = address_lat\n",
        "      row['lng'] = address_lng\n",
        "\n",
        "    return row\n",
        "\n",
        "#brewery_location_data_with_location=brewery_location_data.apply(enrich_with_geocoding_api, axis=1)\n",
        "#print(brewery_location_data_with_location)\n",
        "#brewery_location_data_with_location.to_csv(location_path)"
      ],
      "metadata": {
        "id": "qQpfcfhHQ13S"
      },
      "execution_count": null,
      "outputs": []
    },
    {
      "cell_type": "markdown",
      "source": [
        "(Because of the way that the above function is written, even though we have some errors, we can fix them over time and continue to get better data, but for now, lets do some exploring)\n",
        "\n",
        "Now that we have a fairly clean list of brewerys and locations, we should be able to merge those with the list of beer reviews, and know where the beers for each review were brewed.\n",
        "\n",
        "We now have two major data sets to work with - a set of beer reviews that include brewery IDs, and a set of data about each brewery, including the location (City, State, Country) and Latitude and Longitude of the location.\n"
      ],
      "metadata": {
        "id": "LFQr_9ccQ4ay"
      }
    },
    {
      "cell_type": "markdown",
      "source": [
        "# Research Question\n",
        "\n",
        "As we explored the various information related to beer styles and location, we ended up with a final research question of:\n",
        "\n",
        "> Does a correlation between the overall quality of beer in a given style (represented by overall rating in beer reviews per style) and the geography of the brewer exist?  While it appears that this correlation should exist historically in Europe, where beer styles were developed geographically, it is not obvious if the same conditions will appear in the USA - where styles were more “imported” with immigrants from Europe and most styles are not associated with a particular geographic location.\n",
        "\n",
        "\n",
        "In this case our response variables are the geographic location of the brewery and the style of beer.  Our predictor variable is the expected quality of the beer - as represented by the overall review rating.\n",
        "\n",
        "We then follow this with a more practical question (not just research related, but a model and code that will help us in the future) which is:\n",
        "\n",
        "> Can I predict what kind of beer I should drink when I go to a specific location (like on vacation)\n",
        "\n"
      ],
      "metadata": {
        "id": "qsB9yOJ6SYFh"
      }
    },
    {
      "cell_type": "markdown",
      "source": [
        "# Exploratory Data Analysis\n",
        "\n",
        "Once we have our datasets, the first thing we need to do is merge our data.  This will give us a list of beer reviews, where each beer review contains a rating, a style, a brewery and a location."
      ],
      "metadata": {
        "id": "Kq8m9IwhS_C4"
      }
    },
    {
      "cell_type": "code",
      "source": [
        "import pandas as pd\n",
        "import numpy as np\n",
        "\n",
        "# file locations\n",
        "reviews_path='/content/drive/MyDrive/WPI/CS539/Data/final-project/beer_reviews.csv'\n",
        "location_path='/content/drive/MyDrive/WPI/CS539/Data/final-project/breweries-cleaned.csv'\n",
        "\n",
        "\n",
        "# Load the BeerAdvocate data\n",
        "beer_reviews = pd.read_csv(reviews_path)\n",
        "\n",
        "# Load the brewery location data\n",
        "brewery_location_data = pd.read_csv(location_path)\n",
        "# Use the `replace()` function to remove blank strings\n",
        "brewery_location_data['lat'] = brewery_location_data['lat'].replace(' ', np.nan, regex=True)\n",
        "brewery_location_data['lng'] = brewery_location_data['lng'].replace(' ', np.nan, regex=True)\n",
        "brewery_location_data.lat = brewery_location_data.lat.astype(float)\n",
        "brewery_location_data.lng = brewery_location_data.lng.astype(float)\n",
        "\n",
        "\n",
        "# Merge the two datasets\n",
        "merged_data = pd.merge(beer_reviews, brewery_location_data, on='brewery_id')\n",
        "\n",
        "# Clean the data\n",
        "merged_data.dropna(inplace=True,subset=['review_overall','beer_style','lat', 'lng'])\n",
        "\n",
        "print(merged_data)"
      ],
      "metadata": {
        "colab": {
          "base_uri": "https://localhost:8080/"
        },
        "id": "fttMV1X3TMW7",
        "outputId": "16d4a3db-8eef-4282-f604-771a48e3b389"
      },
      "execution_count": null,
      "outputs": [
        {
          "output_type": "stream",
          "name": "stdout",
          "text": [
            "         brewery_id                  brewery_name  review_time  \\\n",
            "0             10325               Vecchio Birraio   1234817823   \n",
            "1             10325               Vecchio Birraio   1235915097   \n",
            "2             10325               Vecchio Birraio   1235916604   \n",
            "3             10325               Vecchio Birraio   1234725145   \n",
            "4              1075       Caldera Brewing Company   1293735206   \n",
            "...             ...                           ...          ...   \n",
            "1101490        6785          Brauerei Lasser GmbH   1168021510   \n",
            "1101491        6785          Brauerei Lasser GmbH   1082412767   \n",
            "1101492        6785          Brauerei Lasser GmbH   1091652403   \n",
            "1101493        6102  Georg Meinel Bierbrauerei KG   1297373426   \n",
            "1101494        6102  Georg Meinel Bierbrauerei KG   1301531398   \n",
            "\n",
            "         review_overall  review_aroma  review_appearance review_profilename  \\\n",
            "0                   1.5           2.0                2.5            stcules   \n",
            "1                   3.0           2.5                3.0            stcules   \n",
            "2                   3.0           2.5                3.0            stcules   \n",
            "3                   3.0           3.0                3.5            stcules   \n",
            "4                   4.0           4.5                4.0     johnmichaelsen   \n",
            "...                 ...           ...                ...                ...   \n",
            "1101490             4.0           3.5                3.0            stcules   \n",
            "1101491             2.5           2.5                2.5             Bourre   \n",
            "1101492             3.0           3.5                4.0             Bourre   \n",
            "1101493             3.5           4.0                3.5            rtepiak   \n",
            "1101494             3.5           3.5                4.0            rtepiak   \n",
            "\n",
            "                             beer_style  review_palate  review_taste  ...  \\\n",
            "0                            Hefeweizen            1.5           1.5  ...   \n",
            "1                    English Strong Ale            3.0           3.0  ...   \n",
            "2                Foreign / Export Stout            3.0           3.0  ...   \n",
            "3                       German Pilsener            2.5           3.0  ...   \n",
            "4        American Double / Imperial IPA            4.0           4.5  ...   \n",
            "...                                 ...            ...           ...  ...   \n",
            "1101490                 German Pilsener            3.0           3.5  ...   \n",
            "1101491                 German Pilsener            2.5           2.5  ...   \n",
            "1101492       Dortmunder / Export Lager            4.0           2.5  ...   \n",
            "1101493                      Weizenbock            3.5           4.0  ...   \n",
            "1101494                       Rauchbier            3.5           3.5  ...   \n",
            "\n",
            "        beer_abv  beer_beerid  Unnamed: 0.1  Unnamed: 0  \\\n",
            "0            5.0        47986          6061        6061   \n",
            "1            6.2        48213          6061        6061   \n",
            "2            6.5        48215          6061        6061   \n",
            "3            5.0        47969          6061        6061   \n",
            "4            7.7        64883           805         805   \n",
            "...          ...          ...           ...         ...   \n",
            "1101490      NaN        17187          4477        4477   \n",
            "1101491      NaN        17187          4477        4477   \n",
            "1101492      5.2        19125          4477        4477   \n",
            "1101493      6.5        66101          4049        4049   \n",
            "1101494      5.2        67661          4049        4049   \n",
            "\n",
            "                                       city country        lat         lng  \\\n",
            "0        Marsango Di Campo San Martino (PD)      IT  45.547002   11.833802   \n",
            "1        Marsango Di Campo San Martino (PD)      IT  45.547002   11.833802   \n",
            "2        Marsango Di Campo San Martino (PD)      IT  45.547002   11.833802   \n",
            "3        Marsango Di Campo San Martino (PD)      IT  45.547002   11.833802   \n",
            "4                                   Ashland      US  42.194576 -122.709477   \n",
            "...                                     ...     ...        ...         ...   \n",
            "1101490                             Lörrach     NaN  47.616792    7.669102   \n",
            "1101491                             Lörrach     NaN  47.616792    7.669102   \n",
            "1101492                             Lörrach     NaN  47.616792    7.669102   \n",
            "1101493                                 Hof      DE  50.313539   11.912781   \n",
            "1101494                                 Hof      DE  50.313539   11.912781   \n",
            "\n",
            "                                       location state  \n",
            "0        Marsango Di Campo San Martino (PD), IT   NaN  \n",
            "1        Marsango Di Campo San Martino (PD), IT   NaN  \n",
            "2        Marsango Di Campo San Martino (PD), IT   NaN  \n",
            "3        Marsango Di Campo San Martino (PD), IT   NaN  \n",
            "4                               Ashland, OR, US    OR  \n",
            "...                                         ...   ...  \n",
            "1101490                                 Lörrach   NaN  \n",
            "1101491                                 Lörrach   NaN  \n",
            "1101492                                 Lörrach   NaN  \n",
            "1101493                                 Hof, DE   NaN  \n",
            "1101494                                 Hof, DE   NaN  \n",
            "\n",
            "[1032744 rows x 21 columns]\n"
          ]
        }
      ]
    },
    {
      "cell_type": "markdown",
      "source": [
        "As you can see we have 21 various features for each row, and just over one 1M beer reviews."
      ],
      "metadata": {
        "id": "c95bQ7zWTYw-"
      }
    },
    {
      "cell_type": "markdown",
      "source": [
        "## Basic Data Characteristics\n",
        "\n",
        "Lets first take a look at some basic statistics about the data, and explore some histograms (though we'll need to look in more detail at most of these)\n"
      ],
      "metadata": {
        "id": "9RYtPoxmThn6"
      }
    },
    {
      "cell_type": "code",
      "source": [
        "merged_data.shape\n",
        "\n",
        "merged_data.hist()"
      ],
      "metadata": {
        "colab": {
          "base_uri": "https://localhost:8080/",
          "height": 695
        },
        "id": "dnagIEWkTols",
        "outputId": "d5a5bce1-56b0-43dc-f18b-cb26c0239181"
      },
      "execution_count": null,
      "outputs": [
        {
          "output_type": "execute_result",
          "data": {
            "text/plain": [
              "array([[<Axes: title={'center': 'brewery_id'}>,\n",
              "        <Axes: title={'center': 'review_time'}>,\n",
              "        <Axes: title={'center': 'review_overall'}>,\n",
              "        <Axes: title={'center': 'review_aroma'}>],\n",
              "       [<Axes: title={'center': 'review_appearance'}>,\n",
              "        <Axes: title={'center': 'review_palate'}>,\n",
              "        <Axes: title={'center': 'review_taste'}>,\n",
              "        <Axes: title={'center': 'beer_abv'}>],\n",
              "       [<Axes: title={'center': 'beer_beerid'}>,\n",
              "        <Axes: title={'center': 'Unnamed: 0.1'}>,\n",
              "        <Axes: title={'center': 'Unnamed: 0'}>,\n",
              "        <Axes: title={'center': 'lat'}>],\n",
              "       [<Axes: title={'center': 'lng'}>, <Axes: >, <Axes: >, <Axes: >]],\n",
              "      dtype=object)"
            ]
          },
          "metadata": {},
          "execution_count": 4
        },
        {
          "output_type": "display_data",
          "data": {
            "text/plain": [
              "<Figure size 640x480 with 16 Axes>"
            ],
            "image/png": "[encoded data removed]"
          },
          "metadata": {}
        }
      ]
    },
    {
      "cell_type": "markdown",
      "source": [
        "Since we're looking at geographical relations of beer styles to review ratings, lets try and take a look at that now by running a scatter plot that shows latitude/longitude vs overall rating:"
      ],
      "metadata": {
        "id": "YTdKHfVETtLv"
      }
    },
    {
      "cell_type": "code",
      "source": [
        "import matplotlib.pyplot as plt\n",
        "import numpy as np\n",
        "x=merged_data.lng\n",
        "y=merged_data.lat\n",
        "\n",
        "\n",
        "score=merged_data.review_overall\n",
        "plt.scatter(x, y, s=1, c=score)\n",
        "plt.ylim(-90,90)\n",
        "plt.xlim(-180,180)"
      ],
      "metadata": {
        "colab": {
          "base_uri": "https://localhost:8080/",
          "height": 447
        },
        "id": "lEiMe7EuT48E",
        "outputId": "49bcb783-3406-40e1-c271-14b409aada97"
      },
      "execution_count": null,
      "outputs": [
        {
          "output_type": "execute_result",
          "data": {
            "text/plain": [
              "(-180.0, 180.0)"
            ]
          },
          "metadata": {},
          "execution_count": 5
        },
        {
          "output_type": "display_data",
          "data": {
            "text/plain": [
              "<Figure size 640x480 with 1 Axes>"
            ],
            "image/png": "[encoded data removed]"
          },
          "metadata": {}
        }
      ]
    },
    {
      "cell_type": "markdown",
      "source": [
        "As you can see, this somewhat correlates to a world map.  You can see a concentration of reviews in the USA and Europe.  There are a few outside of those major locations, but mostly in the same place.\n"
      ],
      "metadata": {
        "id": "OTEWSYQkT9XK"
      }
    },
    {
      "cell_type": "markdown",
      "source": [
        "One aspect that we will also look at as we move forward would be to actually try and see if there are differences in how the model works in the USA vs in Europe - since these are the two most significant geographical areas with data."
      ],
      "metadata": {
        "id": "73gGktNRUEq4"
      }
    },
    {
      "cell_type": "markdown",
      "source": [
        "## Rating information\n",
        "\n",
        "We talked about looking at ratings - lets see what the ratings look like overall."
      ],
      "metadata": {
        "id": "acbK9t23UURk"
      }
    },
    {
      "cell_type": "code",
      "source": [
        "merged_data.hist(column='review_overall', bins=10)"
      ],
      "metadata": {
        "colab": {
          "base_uri": "https://localhost:8080/",
          "height": 469
        },
        "id": "Zsf0Tj5bUazN",
        "outputId": "4ca3a118-49af-4b58-9a8e-019d37e84491"
      },
      "execution_count": null,
      "outputs": [
        {
          "output_type": "execute_result",
          "data": {
            "text/plain": [
              "array([[<Axes: title={'center': 'review_overall'}>]], dtype=object)"
            ]
          },
          "metadata": {},
          "execution_count": 6
        },
        {
          "output_type": "display_data",
          "data": {
            "text/plain": [
              "<Figure size 640x480 with 1 Axes>"
            ],
            "image/png": "[encoded data removed]"
          },
          "metadata": {}
        }
      ]
    },
    {
      "cell_type": "markdown",
      "source": [
        "It turns out that there are only 10 unique ratings (this dataset has rating granularity of .5 on a scale of 1-5).  And it also seems like generally people like beer a lot!  As you can see the most frequent rating is a 4.5."
      ],
      "metadata": {
        "id": "IlWnf4cwUeUz"
      }
    },
    {
      "cell_type": "markdown",
      "source": [
        "## Style Information\n",
        "\n",
        "We're also interested in beer style information here as well.  So lets take a look at the number of beer styles and how many reviews each one has:"
      ],
      "metadata": {
        "id": "TtzhRUJSUuns"
      }
    },
    {
      "cell_type": "code",
      "source": [
        "style_counts = merged_data['beer_style'].value_counts()\n",
        "print(style_counts)\n",
        "\n",
        "plt.bar(x=range(style_counts.values.size), height=style_counts.values)"
      ],
      "metadata": {
        "colab": {
          "base_uri": "https://localhost:8080/",
          "height": 673
        },
        "id": "BwlHJE7YU5s0",
        "outputId": "5bb57220-d385-408e-f711-e962c822f052"
      },
      "execution_count": null,
      "outputs": [
        {
          "output_type": "stream",
          "name": "stdout",
          "text": [
            "beer_style\n",
            "American IPA                      75304\n",
            "American Double / Imperial IPA    51118\n",
            "American Pale Ale (APA)           38454\n",
            "Russian Imperial Stout            37542\n",
            "American Porter                   30786\n",
            "                                  ...  \n",
            "English Pale Mild Ale               460\n",
            "Roggenbier                          283\n",
            "Happoshu                            236\n",
            "Sahti                               232\n",
            "Kvass                               188\n",
            "Name: count, Length: 104, dtype: int64\n"
          ]
        },
        {
          "output_type": "execute_result",
          "data": {
            "text/plain": [
              "<BarContainer object of 104 artists>"
            ]
          },
          "metadata": {},
          "execution_count": 7
        },
        {
          "output_type": "display_data",
          "data": {
            "text/plain": [
              "<Figure size 640x480 with 1 Axes>"
            ],
            "image/png": "[encoded data removed]"
          },
          "metadata": {}
        }
      ]
    },
    {
      "cell_type": "markdown",
      "source": [
        "So it looks like we have about 104 styles. We have a LOT of data on the most common styles, and a lot less on some of the less frequent styles. We may have to make a cut around 80 styles - since seems like where we would have a few thousand reviews per style.\n",
        "\n",
        "OK. Lets see if there are some styles that are more highly rated than others."
      ],
      "metadata": {
        "id": "F5S8Kp5cU8YL"
      }
    },
    {
      "cell_type": "code",
      "source": [
        "style_ratings = merged_data.pivot_table('review_overall', index=['beer_style'],aggfunc='mean').copy()\n",
        "df_style_count = style_counts.to_frame(name='count').reset_index(names=['beer_style'])\n",
        "\n",
        "style_count_rating = pd.merge(style_ratings, df_style_count, on='beer_style')\n",
        "print(style_count_rating)\n",
        "\n",
        "xdata = style_count_rating['count']\n",
        "ydata = style_count_rating['review_overall']\n",
        "plt.scatter(x=xdata, y=ydata)\n",
        "m, b = np.polyfit(xdata, ydata, 1)\n",
        "# adding the regression line to the scatter plot\n",
        "plt.plot(xdata, m*xdata + b, color=\"k\", lw=2.5)"
      ],
      "metadata": {
        "colab": {
          "base_uri": "https://localhost:8080/",
          "height": 690
        },
        "id": "jAHUYzDUU-s4",
        "outputId": "56f85c8c-1cd2-4a0a-8430-bfdf9485c0e4"
      },
      "execution_count": null,
      "outputs": [
        {
          "output_type": "stream",
          "name": "stdout",
          "text": [
            "                     beer_style  review_overall  count\n",
            "0                       Altbier        3.846462   5624\n",
            "1        American Adjunct Lager        3.048155  23798\n",
            "2      American Amber / Red Ale        3.832342  30586\n",
            "3    American Amber / Red Lager        3.597851   5723\n",
            "4           American Barleywine        3.923794  19244\n",
            "..                          ...             ...    ...\n",
            "99                 Vienna Lager        3.791584   7569\n",
            "100                  Weizenbock        4.040770   7996\n",
            "101                   Wheatwine        3.792753   2608\n",
            "102               Winter Warmer        3.728796  12321\n",
            "103                     Witbier        3.759774  18160\n",
            "\n",
            "[104 rows x 3 columns]\n"
          ]
        },
        {
          "output_type": "execute_result",
          "data": {
            "text/plain": [
              "[<matplotlib.lines.Line2D at 0x7d6669517460>]"
            ]
          },
          "metadata": {},
          "execution_count": 8
        },
        {
          "output_type": "display_data",
          "data": {
            "text/plain": [
              "<Figure size 640x480 with 1 Axes>"
            ],
            "image/png": "[encoded data removed]"
          },
          "metadata": {}
        }
      ]
    },
    {
      "cell_type": "markdown",
      "source": [
        "What I think this means is that various styles have very different average ratings. So we are going to need to create weighted ratings if we want to compare a given location's beers of one style to the average of a particular beer of another style.\n",
        "\n"
      ],
      "metadata": {
        "id": "o7pk-wfvVBTz"
      }
    },
    {
      "cell_type": "markdown",
      "source": [
        "## TODO - explore the variance of reviews across the same beer - to see if much of the variance is actually based on the reviewer, not the beer."
      ],
      "metadata": {
        "id": "s9vBxEEnVC5F"
      }
    },
    {
      "cell_type": "markdown",
      "source": [
        "Since we're looking at various things, lets take a look at the number of different brewers:\n"
      ],
      "metadata": {
        "id": "ioKlgJwgVRJE"
      }
    },
    {
      "cell_type": "code",
      "source": [
        "brewers = merged_data['brewery_id'].value_counts()\n",
        "print(brewers)\n",
        "\n",
        "plt.bar(x=range(brewers.values.size), height=brewers.values)"
      ],
      "metadata": {
        "colab": {
          "base_uri": "https://localhost:8080/",
          "height": 673
        },
        "id": "ZICoUBxtVSx8",
        "outputId": "61707ee1-dc06-45b5-b398-c632c811283d"
      },
      "execution_count": null,
      "outputs": [
        {
          "output_type": "stream",
          "name": "stdout",
          "text": [
            "brewery_id\n",
            "35       39444\n",
            "147      33066\n",
            "140      28751\n",
            "287      25191\n",
            "132      24083\n",
            "         ...  \n",
            "5812         1\n",
            "11142        1\n",
            "7319         1\n",
            "6225         1\n",
            "3215         1\n",
            "Name: count, Length: 2280, dtype: int64\n"
          ]
        },
        {
          "output_type": "execute_result",
          "data": {
            "text/plain": [
              "<BarContainer object of 2280 artists>"
            ]
          },
          "metadata": {},
          "execution_count": 9
        },
        {
          "output_type": "display_data",
          "data": {
            "text/plain": [
              "<Figure size 640x480 with 1 Axes>"
            ],
            "image/png": "[encoded data removed]"
          },
          "metadata": {}
        }
      ]
    },
    {
      "cell_type": "markdown",
      "source": [
        "So we have a LOT more breweries. Seems like if we were really focusing on breweries, we'd be looking at somewhere between 500 and 750 where we have enough reviews to do something with.\n",
        "\n",
        "What happens if we grouped our reviews by brewer, and computed the average rating by brewer, and then plotted that on a map - would get any more info?"
      ],
      "metadata": {
        "id": "aAbswtHIVYMo"
      }
    },
    {
      "cell_type": "code",
      "source": [
        "import matplotlib.cm as cm\n",
        "\n",
        "mean_ratings = merged_data.pivot_table('review_overall', index=['brewery_id'],aggfunc='mean')\n",
        "mean_ratings[:5]\n",
        "# = mean_ratings\n",
        "# Merge the two datasets\n",
        "brewery_location_ratings = pd.merge(mean_ratings, brewery_location_data, on='brewery_id')\n",
        "print(brewery_location_ratings[:5])\n",
        "\n",
        "x=brewery_location_ratings['lng']\n",
        "y=brewery_location_ratings['lat']\n",
        "score=brewery_location_ratings['review_overall']\n",
        "\n",
        "#plt.scatter(x, y, c=score, s=1, cmap=cm.RdYlGn)\n",
        "plt.scatter(x, y, c=score, s=1)\n",
        "plt.ylim(-90,90)\n",
        "plt.xlim(-180,180)"
      ],
      "metadata": {
        "colab": {
          "base_uri": "https://localhost:8080/",
          "height": 673
        },
        "id": "2PbEEG5tVaq7",
        "outputId": "b869dc02-81bc-4678-d12c-3bd6fcaac6aa"
      },
      "execution_count": null,
      "outputs": [
        {
          "output_type": "stream",
          "name": "stdout",
          "text": [
            "   brewery_id  review_overall  Unnamed: 0.1  Unnamed: 0         city country  \\\n",
            "0           1        3.820192             0           0        Plzeň      CZ   \n",
            "1           2        3.162500             1           1  San Antonio    s_id   \n",
            "2           3        3.558802             2           2    Covington    s_id   \n",
            "3           4        4.059555             3           3     Portland     NaN   \n",
            "4           5        3.652473             4           4       Yakima      US   \n",
            "\n",
            "         lat         lng               location state  \n",
            "0  49.738431   13.373637              Plzeň, CZ   NaN  \n",
            "1  29.425190  -98.494592  San Antonio, TX, s_id    TX  \n",
            "2  30.475470  -90.100911    Covington, LA, s_id    LA  \n",
            "3  45.515232 -122.678385               Portland   NaN  \n",
            "4  46.602071 -120.505899         Yakima, WA, US    WA  \n"
          ]
        },
        {
          "output_type": "execute_result",
          "data": {
            "text/plain": [
              "(-180.0, 180.0)"
            ]
          },
          "metadata": {},
          "execution_count": 10
        },
        {
          "output_type": "display_data",
          "data": {
            "text/plain": [
              "<Figure size 640x480 with 1 Axes>"
            ],
            "image/png": "[encoded data removed]"
          },
          "metadata": {}
        }
      ]
    },
    {
      "cell_type": "markdown",
      "source": [
        "We see a bit of a different color scheme - and what appers to be lower overall ratings when we do this vs the map of the individual reviews that we did above."
      ],
      "metadata": {
        "id": "G02lInYaWaQ9"
      }
    },
    {
      "cell_type": "markdown",
      "source": [
        "# Model Revision\n",
        "\n",
        "## Feature Engineering - Location\n",
        "\n",
        "In order to answer this question, the first thing we need to do is understand how we handle geographic locations.  While we could take a naive view of location and just use City, State, Country information.  The challenge here is that there are some states (take Massachusetts for example) that have hundreds of breweries represented in a small area, while there are others (such as Idaho) that have significantly fewer breweries represented in a much larger area, or California that has close to a thousand breweries represented in a very large area.  This representation also misses any correlation between states (such as Massachusetts and Connecticut might share characteristics), or any geographical locations that might blur state lines.  Additionally, states are harder to represent in Europe, leading this method to be problematic.\n",
        "\n",
        "Instead, I have determined that using clustering to be a useful method for turning geographical location into categorical data.  I have used K-means clustering to analyze the breweries and bucket them into a set of categories.  We can then use this same K-means classifier to later determine which geographical region a given prediction request should belong in.  \n",
        "\n",
        "I started with the sqrt of the number of breweries as the value of K.  I found that this value (about 86 global regions) led to less than ideal predictions.  While I still need to run a full analysis, I reached the following formula as a good starting point:\n",
        "\n",
        "~~~\n",
        "clusters = int(math.sqrt(brewery_location_data.shape[0]))*4\n",
        "~~~\n"
      ],
      "metadata": {
        "id": "skIW52P-WtB-"
      }
    },
    {
      "cell_type": "code",
      "source": [
        "import pandas as pd\n",
        "import numpy as np\n",
        "import math\n",
        "from sklearn.cluster import KMeans\n",
        "\n",
        "\n",
        "# file locations\n",
        "reviews_path='/content/drive/MyDrive/WPI/CS539/Data/final-project/beer_reviews.csv'\n",
        "location_path='/content/drive/MyDrive/WPI/CS539/Data/final-project/breweries-cleaned.csv'\n",
        "\n",
        "\n",
        "# Load the BeerAdvocate data\n",
        "beer_reviews = pd.read_csv(reviews_path)\n",
        "\n",
        "# Load the brewery location data\n",
        "brewery_location_data = pd.read_csv(location_path)\n",
        "# Use the `replace()` function to remove blank strings\n",
        "brewery_location_data['lat'] = brewery_location_data['lat'].replace(' ', np.nan, regex=True)\n",
        "brewery_location_data['lng'] = brewery_location_data['lng'].replace(' ', np.nan, regex=True)\n",
        "brewery_location_data.lat = brewery_location_data.lat.astype(float)\n",
        "brewery_location_data.lng = brewery_location_data.lng.astype(float)\n",
        "brewery_location_data.dropna(inplace=True,subset=['lat','lng'])\n",
        "\n",
        "# before we merge, letes use kmeans clustering on the breweries to determine our geoclusters\n",
        "# https://www.analyticsvidhya.com/blog/2021/05/k-mean-getting-the-optimal-number-of-clusters/\n",
        "# tried a few different versions here, started with the sqrt of # of breweries\n",
        "# right now, we are using the sqrt of the number of breweries * 4\n",
        "clusters = int(math.sqrt(brewery_location_data.shape[0])) * 4\n",
        "print(\"Using clusters: \" , clusters)\n",
        "geocluster_kmeans = KMeans(n_clusters = clusters, random_state = 0, n_init='auto')\n",
        "# no need to normalize since lat/lng are same scale\n",
        "#norm_data=preprocessing.normalize()\n",
        "#brewery_location_data['geolabel']=geocluster_kmeans.fit_predict(brewery_location_data[['lat', 'lng' ]])\n",
        "\n",
        "# Merge the two datasets\n",
        "merged_data = pd.merge(beer_reviews, brewery_location_data, on='brewery_id')\n",
        "\n",
        "# Clean the data\n",
        "merged_data.dropna(inplace=True,subset=['review_overall','beer_style','lat', 'lng'])\n",
        "\n",
        "print(merged_data.shape)"
      ],
      "metadata": {
        "colab": {
          "base_uri": "https://localhost:8080/"
        },
        "id": "qVmuZ3AfXDVj",
        "outputId": "dae81ede-38a5-49dd-8bba-03d2b9c60a1f"
      },
      "execution_count": null,
      "outputs": [
        {
          "output_type": "stream",
          "name": "stdout",
          "text": [
            "Using clusters:  312\n",
            "(1032744, 21)\n"
          ]
        }
      ]
    },
    {
      "cell_type": "markdown",
      "source": [
        "This gives us 312 different location groups, which the various breweries are grouped into.  Any new beer review or style that we would be predicting would end up in one of these clusters."
      ],
      "metadata": {
        "id": "RqHcGI5pXIKX"
      }
    },
    {
      "cell_type": "markdown",
      "source": [
        "## Feature Engineering - Normalized Rating\n",
        "\n",
        "One aspect that was looked at was if it made sense to try and normalize ratings across all styles.  That way a beer style that generally wasn't rated highly could be chosen as a desired beer even if the other more generally higher rated beers were in a given location.\n",
        "\n",
        "We tried using standard rating that was defined as the distance from the mean rating of the style:\n",
        "\n",
        "```\n",
        "def normalize_rating(style_ratings,row):\n",
        "  beer_style=row['beer_style']\n",
        "  stylestd=float(style_ratings.loc[beer_style][('review_overall','std')])\n",
        "  stylemean=float(style_ratings.loc[beer_style][('review_overall','mean')])\n",
        "  review=row['review_overall']\n",
        "  return (review-stylemean) / stylestd\n",
        "  \n",
        "def normalize_rating_by_style(data):\n",
        "\n",
        "  style_ratings = data.groupby(['beer_style']).agg({'review_overall': [np.std, np.mean]}).copy()\n",
        "  data['stdrating'] = data.apply(lambda x: normalize_rating(style_ratings,x), axis=1)\n",
        "\n",
        "```\n",
        "\n",
        "This however didn't seem to lead to data that was any more useful. so instead we contined to look at the overall rating."
      ],
      "metadata": {
        "id": "JNu-C2L5Xkm4"
      }
    },
    {
      "cell_type": "markdown",
      "source": [
        "After looking at this possibility, it turns out that it really isn't helpful at all."
      ],
      "metadata": {
        "id": "h_kyH7Xcy1QO"
      }
    },
    {
      "cell_type": "markdown",
      "source": [
        "## Model Construction\n",
        "\n",
        "Our overall model construction for predicting a given rating for a given style in a given location, is based on a DecisionTreeRegressor\n",
        "\n",
        "As part of the analysis I have looked at various Regression models.  So far, I have tested a RandomForestRegressor, DecisionTreeRegressor and HistGradientBoostingRegressor.\n",
        "\n",
        "Answering the question: which beer style should I drink when I go to a given location, becomes a bit more complicated.  First we determine the location of where we are going.  Then we prepare an input dataset of all styles that we want to evaluate (more on this later) with the given latitude and longitude.  We then run this dataset through our geocoding model to determine the correct cluster.  We then run the same dataset through our Label Encoder to convert from textual to numeric style IDs.\n",
        "\n",
        "This is then fed into our prediction model.  We use this model to predict the rating of each style of beer in the given location.  We can then use this list, and sort it and return the top beer styles that we should try in the given location.\n",
        "\n",
        "So far the RandomForestRegresor with n_estimators set to 100 seems to give the best performance (based on RMS, R2 and Adjusted R2).\n",
        "\n",
        "\n",
        "\n"
      ],
      "metadata": {
        "id": "-Xk8Y-7RZ3g9"
      }
    },
    {
      "cell_type": "code",
      "source": [
        "from sklearn import preprocessing\n",
        "\n",
        "# lets change the data to include an integer that indicates the style too\n",
        "allstyles = merged_data['beer_style'].unique()\n",
        "style_encoder = preprocessing.LabelEncoder()\n",
        "style_encoder.fit(allstyles)\n",
        "\n",
        "# create numeric styles\n",
        "merged_data['beer_style_id'] = style_encoder.transform(merged_data['beer_style'])\n"
      ],
      "metadata": {
        "id": "n7ghMKjGFvpc"
      },
      "execution_count": null,
      "outputs": []
    },
    {
      "cell_type": "markdown",
      "source": [
        "Performance Evaluation\n",
        "In order to evaluate the model that we’ve created I have tried to create a second model that does not take location into account - just predicting the rating based on beer style itself, instead of on geolocation and beer style. This should tell us how significantly the location factors into predicting the beer style.\n",
        "\n",
        "In order to evaluate this, I will split the dataset 80/20 and run test data through both predictors, and then evaluate the RMS error and R2 score for each. This will help us decide which models to pick, as well as what hyperparameters to use."
      ],
      "metadata": {
        "id": "T9OYBLIgFx0G"
      }
    },
    {
      "cell_type": "code",
      "source": [
        "from sklearn import preprocessing\n",
        "from sklearn.model_selection import train_test_split\n",
        "from sklearn.ensemble import RandomForestRegressor\n",
        "from sklearn.ensemble import HistGradientBoostingRegressor\n",
        "from sklearn.pipeline import Pipeline\n",
        "from sklearn.tree import DecisionTreeRegressor\n",
        "from sklearn.metrics import mean_squared_error\n",
        "from sklearn.metrics import r2_score\n",
        "\n",
        "from sklearn.cluster import KMeans\n",
        "from sklearn import preprocessing\n",
        "import pandas as pd\n",
        "import numpy\n",
        "import math\n",
        "\n",
        "model_columns=['beer_style_id', 'geolabel']\n",
        "target_column='review_overall'\n",
        "\n",
        "def performance_test(X_train, X_test, y_train, y_test, location_classifier, model):\n",
        "  # Lets first apply our location_classifier - tried to use a pipeline for this,\n",
        "  # but I was having lots of problems, so we'll do this manually for now\n",
        "  X_train=X_train.copy()\n",
        "  X_test=X_test.copy()\n",
        "    X_train['geolabel']=location_classifier.predict(X_train[['lat','lng']])\n",
        "    X_test['geolabel']=location_classifier.predict(X_test[['lat','lng']])\n",
        "    model_columns = std_columns + ['geolabel']\n",
        "\n",
        "  # ok, we now can create a model\n",
        "  # now lets test and see if its more accurate than just guessing the style\n",
        "  model = model.fit(X_train[model_columns], y_train)\n",
        "  y_predictions = model.predict(X_test[model_columns])\n",
        "\n",
        "  classifier2 = RandomForestRegressor()\n",
        "  #X_train['beer_style_id'] = style_encoder.transform(X_train['beer_style'])\n",
        "  #classifier2 = classifier2.fit(X_train[['beer_style_id','lat','lng']], y_train)\n",
        "  #y_predictions2 = classifier2.predict(X_test[['beer_style_id','lat','lng']])\n",
        "  classifier2 = classifier2.fit(X_train[std_columns], y_train)\n",
        "  y_predictions2 = classifier2.predict(X_test[std_columns])\n",
        "\n",
        "  rms1 = mean_squared_error(y_test, y_predictions, squared=False)\n",
        "  rms2 = mean_squared_error(y_test, y_predictions2, squared=False)\n",
        "\n",
        "  r1=r2_score(y_test, y_predictions)\n",
        "  r2=r2_score(y_test, y_predictions2)\n",
        "\n",
        "  r2_adj1=1-(1-r1)*((len(X_test)-1)/(len(X_test)-X_test.shape[1]-1))\n",
        "  r2_adj2=1-(1-r2)*((len(X_test)-1)/(len(X_test)-X_test.shape[1]-1))\n",
        "\n",
        "  print(\"RMS/R2/AdjR2 with GeoCluster: \", rms1, r1, r2_adj1, \" RMS/R2/AdjR2 without GeoCluster: \", rms2, r2, r2_adj2)\n",
        "  print(\"percent of stddev explained with geo: \", 1-math.sqrt(1-r1), \" vs without: \", 1-math.sqrt(1-r2))\n",
        "\n",
        "\n"
      ],
      "metadata": {
        "id": "UQDM2kOMbFwk"
      },
      "execution_count": null,
      "outputs": []
    },
    {
      "cell_type": "code",
      "source": [
        "\n",
        "X=merged_data.copy()\n",
        "Y=X[target_column]\n",
        "X_train, X_test, y_train, y_test = train_test_split(X[['lat','lng','beer_style','beer_style_id',target_column]], Y, test_size=0.2, random_state=1)\n",
        "\n",
        "print(\"RandomForestRegressor\")\n",
        "performance_test(X_train, X_test, y_train, y_test, geocluster_kmeans, RandomForestRegressor(n_estimators=100, random_state=0))\n",
        "print(\"DecisionTreeRegressor\")\n",
        "performance_test(X_train, X_test, y_train, y_test, geocluster_kmeans, DecisionTreeRegressor())\n",
        "print(\"HistGradientBoostingRegressor\")\n",
        "performance_test(X_train, X_test, y_train, y_test, geocluster_kmeans, HistGradientBoostingRegressor())\n"
      ],
      "metadata": {
        "colab": {
          "base_uri": "https://localhost:8080/"
        },
        "id": "HQdLPXhs0EKE",
        "outputId": "97870536-41ec-4221-aa27-e0a10c0baf04"
      },
      "execution_count": null,
      "outputs": [
        {
          "output_type": "stream",
          "name": "stdout",
          "text": [
            "RandomForestRegressor\n",
            "RMS/R2/AdjR2 with GeoCluster:  0.640875210516584 0.19892223503365714 0.19889896389950623  RMS/R2/AdjR2 without GeoCluster:  0.6733354676658266 0.11571814432512406 0.11569245613030632\n",
            "percent of stddev explained with geo:  0.10497052285059183  vs without:  0.05963738075417102\n",
            "DecisionTreeRegressor\n",
            "RMS/R2/AdjR2 with GeoCluster:  0.6414629075048168 0.19745234871242834 0.1974290348784008  RMS/R2/AdjR2 without GeoCluster:  0.673332222834319 0.11572666708636548 0.11570097913913213\n",
            "percent of stddev explained with geo:  0.10414976068118864  vs without:  0.05964191240058214\n",
            "HistGradientBoostingRegressor\n",
            "RMS/R2/AdjR2 with GeoCluster:  0.6542882635119386 0.16503938295809195 0.16501512753448688  RMS/R2/AdjR2 without GeoCluster:  0.673330788394775 0.11573043472213973 0.11570474688435539\n",
            "percent of stddev explained with geo:  0.0862382055251445  vs without:  0.059643915701153016\n"
          ]
        }
      ]
    },
    {
      "cell_type": "markdown",
      "source": [
        "As you can see the performance is quite similar across the various types of training models, but the RandomForestRegressor performs slightly better."
      ],
      "metadata": {
        "id": "gCObXeXYflzT"
      }
    },
    {
      "cell_type": "markdown",
      "source": [
        "## Model Revision - Different ways of computing Geocluster\n",
        "\n",
        "Instead of just using KMeans clustering, perhaps there is a different clustering algorithm that will work better for determining our geolabel feature.\n",
        "\n",
        "We already tested KMeans, lets also test the other clustering algorithms that support prediction (not all do, many will only do fit_predict, which would mean we can't use them for our intended purpose).\n",
        "\n",
        "We will test:\n",
        "* Affinity Propogation\n",
        "* BIRCH\n",
        "* MeanShift\n"
      ],
      "metadata": {
        "id": "Z-q7kBj2LG-N"
      }
    },
    {
      "cell_type": "code",
      "source": [
        "# OK, lets create various geocluster models first\n",
        "from sklearn.cluster import AffinityPropagation\n",
        "from sklearn.cluster import Birch\n",
        "from sklearn.cluster import MeanShift\n",
        "\n",
        "print(\"AffinityPropagation\")\n",
        "geocluster_affinity = AffinityPropagation(damping = 0.9, max_iter = 1000, random_state=0)\n",
        "geocluster_affinity.fit(brewery_location_data[['lat', 'lng' ]])\n",
        "performance_test(X_train, X_test, y_train, y_test, geocluster_affinity, RandomForestRegressor(n_estimators=100, random_state=0))\n",
        "\n",
        "print(\"Birch\")\n",
        "geocluster_birch = Birch(n_clusters=clusters)\n",
        "geocluster_birch.fit(brewery_location_data[['lat', 'lng' ]])\n",
        "performance_test(X_train, X_test, y_train, y_test, geocluster_birch, RandomForestRegressor(n_estimators=100, random_state=0))\n",
        "\n",
        "print(\"MeanShift\")\n",
        "geocluster_meanshift = MeanShift()\n",
        "geocluster_meanshift.fit(brewery_location_data[['lat', 'lng' ]])\n",
        "performance_test(X_train, X_test, y_train, y_test, geocluster_meanshift, RandomForestRegressor(n_estimators=100, random_state=0))\n"
      ],
      "metadata": {
        "colab": {
          "base_uri": "https://localhost:8080/"
        },
        "id": "fWZ5zaUBPzrH",
        "outputId": "608372b9-3257-4b3c-dd03-340ee2c68e8f"
      },
      "execution_count": null,
      "outputs": [
        {
          "output_type": "stream",
          "name": "stdout",
          "text": [
            "AffinityPropagation\n",
            "RMS/R2/AdjR2 with GeoCluster:  0.6568671172237952 0.1584444771086012 0.1584200301044213  RMS/R2/AdjR2 without GeoCluster:  0.6733326475145627 0.11572555163838838 0.11569986365875151\n",
            "percent of stddev explained with geo:  0.08263664620206312  vs without:  0.05964131930331418\n",
            "Birch\n",
            "RMS/R2/AdjR2 with GeoCluster:  0.6448564451665841 0.18893843570692026 0.18891487454557898  RMS/R2/AdjR2 without GeoCluster:  0.6733343147530901 0.1157211725302022 0.1156954844233532\n",
            "percent of stddev explained with geo:  0.09941043516312065  vs without:  0.05963899088180091\n",
            "MeanShift\n",
            "RMS/R2/AdjR2 with GeoCluster:  0.6676287291743209 0.13064378167986956 0.13061852707155786  RMS/R2/AdjR2 without GeoCluster:  0.673332775675974 0.11572521501466304 0.11569952702524733\n",
            "percent of stddev explained with geo:  0.06760726176137  vs without:  0.059641140316455066\n"
          ]
        }
      ]
    },
    {
      "cell_type": "markdown",
      "source": [
        "So it seems like our KMeans clustering along with our RandomForestRegressor are the best model for our purposes at this point."
      ],
      "metadata": {
        "id": "yniDbC-SbKR9"
      }
    },
    {
      "cell_type": "markdown",
      "source": [
        "## Possible Model Revision - Removing the Individual Reviewer Bias\n",
        "\n",
        "One aspect that we will be exploring for our final milestone is to determine how much the variance that we see in beer ratings is actually just normal variance across multiple users.  First, we will try and see if for a given beer and style if the RMS is high in general.  If we see that for the same beer we have high error rates - we will likely know that either the beer is changing a lot (unlikely) or that the reviewers have different tastes (as we discussed in the related papers information, this does seem to be true).\n",
        "\n",
        "I'd like to see if by reducing the resolution of our data by averaging the reviews across brewery, beer ID (so you still might have multiple styles from the same brewery, but only one score per beer) if we might actually improve both the perofrmance of our model (by making it be able to tune more rapidly) and remove some of the error - what we really care about is the average score per beer, not predicting the individual score by beer anyway."
      ],
      "metadata": {
        "id": "OxK7nH3MYUVY"
      }
    },
    {
      "cell_type": "code",
      "source": [
        "individual_drop = ['review_overall', 'review_time', 'review_aroma', 'review_appearance', 'review_profilename', 'review_palate', 'review_taste', 'Unnamed: 0.1', 'Unnamed: 0']\n",
        "\n",
        "merged_beer_ratings = merged_data.pivot_table('review_overall', index='beer_beerid', aggfunc='mean')\n",
        "print(merged_data['beer_beerid'].unique().size, \" unique beers\")\n",
        "print(merged_beer_ratings.shape, \" beer ratings\")\n",
        "\n",
        "indiviual_beers = merged_data.copy()\n",
        "individual_beers = indiviual_beers.drop(individual_drop, axis=1)\n",
        "print(individual_beers['beer_beerid'].unique().size, \" unique beers\")\n",
        "\n",
        "individual_beers.drop_duplicates(inplace=True)\n",
        "print(individual_beers.shape)\n",
        "individual_beers.reset_index(inplace=True, drop=True)\n",
        "\n",
        "merged_beer_ratings.reset_index(names='beer_beerid',inplace=True)\n",
        "print(individual_beers['beer_beerid'].unique().size, \" unique beers\")\n",
        "\n",
        "individual_beers = individual_beers.merge(merged_beer_ratings, on='beer_beerid')\n",
        "print(individual_beers.shape)\n",
        "#individual_beers.dropna(inplace=True)\n",
        "print(individual_beers.shape)"
      ],
      "metadata": {
        "colab": {
          "base_uri": "https://localhost:8080/"
        },
        "id": "BGO-3tDQgpXs",
        "outputId": "46143e22-1f86-449a-dfec-9a554efd9792"
      },
      "execution_count": null,
      "outputs": [
        {
          "output_type": "stream",
          "name": "stdout",
          "text": [
            "32081  unique beers\n",
            "(32081, 1)  beer ratings\n",
            "32081  unique beers\n",
            "(32081, 13)\n",
            "32081  unique beers\n",
            "(32081, 14)\n",
            "(32081, 14)\n"
          ]
        }
      ]
    },
    {
      "cell_type": "code",
      "source": [
        "import matplotlib.pyplot as plt\n",
        "import numpy as np\n",
        "x=individual_beers.lng\n",
        "y=individual_beers.lat\n",
        "\n",
        "score=individual_beers.review_overall\n",
        "plt.scatter(x, y, s=1, c=score)\n",
        "plt.ylim(-90,90)\n",
        "plt.xlim(-180,180)"
      ],
      "metadata": {
        "colab": {
          "base_uri": "https://localhost:8080/",
          "height": 447
        },
        "id": "k8Pxi8F7cUPl",
        "outputId": "c332edff-aef6-4345-e9a6-7b83f14b6e0a"
      },
      "execution_count": null,
      "outputs": [
        {
          "output_type": "execute_result",
          "data": {
            "text/plain": [
              "(-180.0, 180.0)"
            ]
          },
          "metadata": {},
          "execution_count": 38
        },
        {
          "output_type": "display_data",
          "data": {
            "text/plain": [
              "<Figure size 640x480 with 1 Axes>"
            ],
            "image/png": "[encoded data removed]"
          },
          "metadata": {}
        }
      ]
    },
    {
      "cell_type": "code",
      "source": [
        "from sklearn.model_selection import train_test_split\n",
        "target_column='review_overall'\n",
        "X=individual_beers.copy()\n",
        "Y=X[target_column]\n",
        "X_train, X_test, y_train, y_test = train_test_split(X[['lat','lng','beer_style','beer_style_id']], Y, test_size=0.2, random_state=1)\n",
        "\n",
        "print(\"RandomForestRegressor\")\n",
        "performance_test(X_train, X_test, y_train, y_test, geocluster_kmeans, RandomForestRegressor(n_estimators=100, random_state=0))\n"
      ],
      "metadata": {
        "colab": {
          "base_uri": "https://localhost:8080/"
        },
        "id": "sO1EQxmnm28Q",
        "outputId": "5c887485-fab1-4308-fa6c-ffd38169d6ef"
      },
      "execution_count": null,
      "outputs": [
        {
          "output_type": "stream",
          "name": "stdout",
          "text": [
            "RandomForestRegressor\n",
            "RMS/R2/AdjR2 with GeoCluster:  0.6241606512118781 0.04635033449490822 0.045606574032027836  RMS/R2/AdjR2 without GeoCluster:  0.5919408637759663 0.14226578898932052 0.14159683390352207\n",
            "percent of stddev explained with geo:  0.023450121342953767  vs without:  0.07386058770254278\n"
          ]
        }
      ]
    },
    {
      "cell_type": "markdown",
      "source": [
        "What becomes super interesting in this case is that we perform worse than we did before.  One possibility is that since we just have less data now (~32k ratings vs ~1M ratings), so the model just can't be trained as well as it could before.  Either way, I think we will pass up this option."
      ],
      "metadata": {
        "id": "b2W-Zv7Nbg58"
      }
    },
    {
      "cell_type": "markdown",
      "source": [
        "## Overall Model Performance\n",
        "\n",
        "So, what we've seen so far is that the model does help make our predictions better than they are just based on beer style alone.  \n",
        "\n",
        "We saw the following metrics:\n",
        "\n",
        "| Metric | Value With GeoCluster | Value with Base Model |\n",
        "| --- | --- | --- |\n",
        "| RMS | 0.640875210516584 |  0.6733354676658266 |\n",
        "| R2 | 0.19892223503365714 |  0.11571814432512406 |\n",
        "| Adj R2 | 0.19889896389950623 |  0.11569245613030632 |\n",
        "| Pct StdDev Explained | 10.5% | 6% |\n",
        "\n",
        "So, our geolabel based model performed almost twice as well as our base model.  Now that still might not be as good as we would like, and I have to admit that I'm somewhat surprised by the fact that geolocation only effects the rating a little bit, but the data is what it is."
      ],
      "metadata": {
        "id": "Cvma4kQHeTTX"
      }
    },
    {
      "cell_type": "markdown",
      "source": [
        "\n",
        "### Additional Question - EU vs USA\n",
        "\n",
        "As mentioned earlier - this evaluation will be run across both the EU dataset and the USA dataset.\n",
        "\n",
        "This will tell us is geography is more important when it comes to beer style rating in the US vs the EU"
      ],
      "metadata": {
        "id": "iwzLeRg9ejvs"
      }
    },
    {
      "cell_type": "code",
      "source": [
        "# for the purposes of this first model, lets limit ourselves to US based ratings\n",
        "us_ratings = merged_data[(merged_data['lat'] > 24.396308)&\n",
        "                        (merged_data['lat'] < 49.384358) &\n",
        "                        (merged_data['lng'] > -125.0) &\n",
        "                        (merged_data['lng'] < -66.93457)].copy()\n",
        "# The bounding box around the continental United States is approximately between\n",
        "# 24.396308 to 49.384358 degrees latitude in the north, and\n",
        "# -125.0 to -66.93457 degrees longitude in the west.\n",
        "\n",
        "eu_ratings = merged_data[(merged_data['lat'] > 35)&\n",
        "                        (merged_data['lat'] < 75) &\n",
        "                        (merged_data['lng'] > -10.0) &\n",
        "                        (merged_data['lng'] < 40)].copy()\n",
        "\n",
        "# we are using a bounding box of -10W to 40E and 35 to 75 north for EU\n",
        "# That will capture ireland and all of western europe and northern europe.\n",
        "# It excludes much of russia\n",
        "\n",
        "print(\"US Rating Model\")\n",
        "\n",
        "X=us_ratings.copy()\n",
        "Y=X[target_column]\n",
        "X_train, X_test, y_train, y_test = train_test_split(X[['lat','lng','beer_style','beer_style_id',target_column]], Y, test_size=0.2, random_state=1)\n",
        "\n",
        "performance_test(X_train, X_test, y_train, y_test, geocluster_kmeans, RandomForestRegressor(n_estimators=100, random_state=0))\n",
        "\n",
        "print(\"EU Rating Model\")\n",
        "\n",
        "X=eu_ratings.copy()\n",
        "Y=X[target_column]\n",
        "X_train, X_test, y_train, y_test = train_test_split(X[['lat','lng','beer_style','beer_style_id',target_column]], Y, test_size=0.2, random_state=1)\n",
        "\n",
        "performance_test(X_train, X_test, y_train, y_test, geocluster_kmeans, RandomForestRegressor(n_estimators=100, random_state=0))\n",
        "\n",
        "\n"
      ],
      "metadata": {
        "colab": {
          "base_uri": "https://localhost:8080/"
        },
        "id": "JjoRykuwenn1",
        "outputId": "5242b031-1234-43e7-d8ec-3a96962898f6"
      },
      "execution_count": null,
      "outputs": [
        {
          "output_type": "stream",
          "name": "stdout",
          "text": [
            "US Rating Model\n",
            "RMS/R2/AdjR2 with GeoCluster:  0.6312377022337211 0.1832739462284939 0.18324170534527218  RMS/R2/AdjR2 without GeoCluster:  0.6631967179716186 0.09848016590480035 0.09844457772249748\n",
            "percent of stddev explained with geo:  0.09627102858683012  vs without:  0.0505160169359361\n",
            "EU Rating Model\n",
            "RMS/R2/AdjR2 with GeoCluster:  0.6546543630544908 0.18577630235561793 0.18567223934309574  RMS/R2/AdjR2 without GeoCluster:  0.6755539659522566 0.13295886789463685 0.13284805447512016\n",
            "percent of stddev explained with geo:  0.0976565522793541  vs without:  0.0688495652659753\n"
          ]
        }
      ]
    },
    {
      "cell_type": "markdown",
      "source": [
        "We actually see that the model holds up pretty well in both the US and EU.  We do see that the base model perofrms slightly better in the EU, but and the boost given by the geocoding isn't quite as high - but the model as a whole (with geolocation) performs better in the EU.\n"
      ],
      "metadata": {
        "id": "gbuf12dOfet1"
      }
    },
    {
      "cell_type": "markdown",
      "source": [
        "## Predicting the Best Beer\n",
        "\n",
        "We did say that we wantd to be able to build a tool that would tell us what kind of beer to drink in a given location.\n",
        "\n",
        "In order to build that tool, we are going to take a given location, and get its geocode.  Then after that we'll take a look at the styles that are available in that geocode (so we're not suggesting to try the same highly rated styles to everyone all the time).\n",
        "\n",
        "Finally for all the styles that might be available, we'll predict their ratings in that location, and sort by rating.\n",
        "\n",
        "We'll print out the top three ratings for any given location and suggest what someone should drink."
      ],
      "metadata": {
        "id": "9guz3oqFgBGs"
      }
    },
    {
      "cell_type": "code",
      "source": [
        "import numpy\n",
        "\n",
        "model_columns=['beer_style_id', 'geolabel']\n",
        "\n",
        "def create_rating_model(data):\n",
        "  model={}\n",
        "  data=data.copy()\n",
        "\n",
        "  # lets create our location set\n",
        "  clusters = int(math.sqrt(brewery_location_data.shape[0]))*4\n",
        "  geocluster_kmeans = KMeans(n_clusters = clusters, random_state = 0, n_init='auto')\n",
        "  # no need to normalize since lat/lng are same scale\n",
        "  #norm_data=preprocessing.normalize()\n",
        "  geocluster_kmeans.fit(brewery_location_data[['lat', 'lng' ]])\n",
        "  model['geocluster'] = geocluster_kmeans\n",
        "\n",
        "  data['geolabel'] = geocluster_kmeans.predict(data[['lat','lng']])\n",
        "\n",
        "  # lets change the data to include an integer that indicates the style too\n",
        "  allstyles = data['beer_style'].unique()\n",
        "  style_encoder = preprocessing.LabelEncoder()\n",
        "  style_encoder.fit(allstyles)\n",
        "\n",
        "  # create numeric styles\n",
        "  data['beer_style_id'] = style_encoder.transform(data['beer_style'])\n",
        "  model['data'] = data\n",
        "  model['style_encoder'] = style_encoder\n",
        "\n",
        "  # now lets create a model that takes the label and the style and predicts the rating\n",
        "  classifier = RandomForestRegressor(n_estimators=100, random_state=0)\n",
        "  X=data[model_columns]\n",
        "  classifier = classifier.fit(X, data[target_column])\n",
        "  model['classifier'] = classifier\n",
        "\n",
        "  # return an object that contains the style list and an array of classifiers to predict\n",
        "  # the rating for each style\n",
        "  return model\n",
        "\n",
        "def best_beer_style_at(model, lat, lng):\n",
        "  resultlist={}\n",
        "  # we only want to predict styles that are in the given geolocation - otherwise it doesn't make much sense\n",
        "  geodata = pd.DataFrame(data = { 'lat' : [ lat ], 'lng' : [lng]})\n",
        "  geolabel = model['geocluster'].predict(geodata)[0]\n",
        "\n",
        "  # run the style rating model for each style at the given latitude and longitude\n",
        "  data=model['data']\n",
        "  geostyles=data[data['geolabel'] == geolabel]['beer_style'].value_counts().to_frame()\n",
        "\n",
        "  geostyles = geostyles[geostyles['count'] > 2].reset_index()['beer_style']\n",
        "\n",
        "  data = pd.DataFrame(data = { 'beer_style' : geostyles })\n",
        "  styleids = style_encoder.transform(data['beer_style'])\n",
        "  data['beer_style_id'] = styleids\n",
        "  data['lat'] = numpy.repeat(lat,geostyles.size)\n",
        "  data['lng'] = numpy.repeat(lng,geostyles.size)\n",
        "  data['geolabel'] = model['geocluster'].predict(data[['lat','lng']])\n",
        "  data[target_column] = model['classifier'].predict(data[model_columns])\n",
        "  result = data[['beer_style','beer_style_id',target_column,'geolabel']].sort_values(by=target_column, ascending=False).head(3)\n",
        "\n",
        "  return result\n",
        "\n",
        "model = create_rating_model(merged_data)\n"
      ],
      "metadata": {
        "id": "wHvY_2kU06CR"
      },
      "execution_count": null,
      "outputs": []
    },
    {
      "cell_type": "code",
      "source": [
        "\n",
        "# boston\n",
        "boston_lat = 42.361145\n",
        "boston_lng = -71.057083\n",
        "boston = best_beer_style_at(model, boston_lat, boston_lng)\n",
        "print('Boston:')\n",
        "print(boston)\n",
        "\n",
        "jackman_lat = 45.6240\n",
        "jackman_lng = -70.20522\n",
        "jackman = best_beer_style_at(model, jackman_lat, jackman_lng)\n",
        "print('Jackman, ME:')\n",
        "print(jackman)\n",
        "\n",
        "\n",
        "stlouis_lat = 38.630737\n",
        "stlouis_lng = -90.199501\n",
        "stlouis = best_beer_style_at(model, stlouis_lat, stlouis_lng)\n",
        "print('St Louis:')\n",
        "print(stlouis)\n",
        "\n",
        "nashville_lat = 36.174465\n",
        "nashville_lng = -86.767960\n",
        "nashville = best_beer_style_at(model, nashville_lat, nashville_lng)\n",
        "print('Nashville:')\n",
        "print(nashville)\n",
        "\n",
        "disney_lat=28.3772\n",
        "disney_lng=-81.5707\n",
        "disney = best_beer_style_at(model, disney_lat, disney_lng)\n",
        "print('Disney:')\n",
        "print(disney)\n",
        "\n",
        "bangalore_lat=12.9716\n",
        "bangalore_lng=77.5946\n",
        "bangalore = best_beer_style_at(model, bangalore_lat, bangalore_lng)\n",
        "print('Bangalore:')\n",
        "print(bangalore)"
      ],
      "metadata": {
        "colab": {
          "base_uri": "https://localhost:8080/"
        },
        "id": "83uIX9EFir3U",
        "outputId": "b3d237ce-6205-48d7-aa46-acfc59a302cd"
      },
      "execution_count": null,
      "outputs": [
        {
          "output_type": "stream",
          "name": "stdout",
          "text": [
            "Boston:\n",
            "               beer_style  beer_style_id  review_overall  geolabel\n",
            "76  English Pale Mild Ale             48        4.437572       223\n",
            "74           Scottish Ale             95        4.342362       223\n",
            "77       Flanders Red Ale             58        4.319049       223\n",
            "Jackman, ME:\n",
            "                         beer_style  beer_style_id  review_overall  geolabel\n",
            "15  Bière de Champagne / Bière Brut             28        4.374909       303\n",
            "2                       Belgian IPA             23        4.324722       303\n",
            "32                          Old Ale             84        4.112324       303\n",
            "St Louis:\n",
            "                beer_style  beer_style_id  review_overall  geolabel\n",
            "38              Doppelbock             37        4.246546       154\n",
            "28  Russian Imperial Stout             89        4.151250       154\n",
            "21          American Stout             18        4.142196       154\n",
            "Nashville:\n",
            "            beer_style  beer_style_id  review_overall  geolabel\n",
            "15             Altbier              0        4.326537       107\n",
            "9         American IPA             12        4.215698       107\n",
            "6   American Brown Ale              7        3.994822       107\n",
            "Disney:\n",
            "             beer_style  beer_style_id  review_overall  geolabel\n",
            "26  American Barleywine              4        4.052103       103\n",
            "18         American IPA             12        3.958310       103\n",
            "9       American Porter             17        3.866019       103\n",
            "Bangalore:\n",
            "            beer_style  beer_style_id  review_overall  geolabel\n",
            "3    Euro Strong Lager             54        3.639310       128\n",
            "4      American Porter             17        3.549433       128\n",
            "0  American Pale Lager             15        2.973052       128\n"
          ]
        }
      ]
    },
    {
      "cell_type": "markdown",
      "source": [
        "Since this is my project, I chose a few locations that I'll be in this year.  A few for fun, and a few for work.\n",
        "\n",
        "Now I know what I'll be looking for in terms of beer styles in each location."
      ],
      "metadata": {
        "id": "eKW852GSiSf4"
      }
    }
  ]
}